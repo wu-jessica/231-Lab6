{
 "cells": [
  {
   "cell_type": "markdown",
   "metadata": {},
   "source": [
    "### Lab 6: Sequence Alignment"
   ]
  },
  {
   "cell_type": "code",
   "execution_count": 3,
   "metadata": {},
   "outputs": [],
   "source": [
    "# Imports\n",
    "import operator\n",
    "import matplotlib.pylab as plt\n",
    "%matplotlib inline"
   ]
  },
  {
   "cell_type": "markdown",
   "metadata": {},
   "source": [
    "### Align the reads to the human genome\n",
    "\n",
    "**What will you use for the database? Input reads?**  \n",
    "The database will be the bowtie2 database files (.bt2 extension) containing the human genome (hg19.) The input reads will be the reads from the Illumina sequencing run (illumina_reads.fastq.)  \n",
    "\n",
    "**If you use the --un unaligned.fastq option, what will unaligned.fastq contain?**  \n",
    "unaligned.fastq will contain the sequencing reads that didn't align to the human genome.  \n",
    "\n",
    "\n",
    "    be131-12@meowth:~$ bowtie2 -p 4 --fast -- no-unal -x /data/hg19/hg19 -U /data/lab6/illumina_reads.fastq -S hg_aligned.sam --un hg_unaligned.fastq  \n",
    "\n",
    "    1124714 reads; of these:  \n",
    "        1124714 (100.00%) were unpaired; of these:  \n",
    "        1028346 (91.43%) aligned 0 times  \n",
    "        86808 (7.72%) aligned exactly 1 time  \n",
    "        9560 (0.85%) aligned >1 times  \n",
    "    8.57% overall alignment rate  \n",
    "\n",
    "\n",
    "**What percentage of your sequencing library came from contaminating human DNA?**  \n",
    "8.57%"
   ]
  },
  {
   "cell_type": "markdown",
   "metadata": {},
   "source": [
    "### Align the reads to the *S. oneidensis* reference genome\n",
    "\n",
    "    be131-12@meowth:~$ bowtie2 -p 4 --fast --no-unal -x /data/lab6/shewanella_oneidensis_mr-1 -U hg_unaligned.fastq -S so_aligned.sam --un so_unaligned.fastq\n",
    "\n",
    "    1028346 reads; of these:\n",
    "        1028346 (100.00%) were unpaired; of these:\n",
    "        299342 (29.11%) aligned 0 times\n",
    "        687579 (66.86%) aligned exactly 1 time\n",
    "        41425 (4.03%) aligned >1 times\n",
    "    70.89% overall alignment rate  \n",
    "\n",
    "\n",
    "**If you use the --un unaligned.fastq option, what will unaligned.fastq contain?**  \n",
    "unaligned.fastq will contain the sequencing reads that didn't align to either the human genome or the *S. oneidensis* genome.  \n",
    "\n",
    "**What percentage of your filtered library didn’t align to the reference genome? If you use --very-sensitive instead of --very-fast, does this percentage increase or decrease?**  \n",
    "29.11% of the filtered library didn't align to the reference genome because there was a 70.89% overall alignment rate. This was obtained using the --fast parameter. This percentage decreased slightly to 28.99% when using the --very-sensitive parameter (overall alignment rate increased to 71.01%.) The point of this parameter seems to be giving users the ability to adjust the trade-off between speed and sensitivity/accuracy. The sensitivity parameter itself likely decreases the alignment score threshold needed for reads to be considered \"aligned\", or increases the number of allowed mismatches, as sensitivity goes from less sensitive (toward --very-fast) to more sensitive (toward --very-sensitive.) \n",
    "\n",
    "More trials confirm this idea:  \n",
    "--very-fast and --fast had same alignment (70.89%)  \n",
    "--very-sensitive and --fast had same alignment for first alignment to human genome (8.57%)  \n",
    "--very-sensitive increases alignment for alignment to *S. oneidensis* (70.89% to 71.01%)  "
   ]
  },
  {
   "cell_type": "markdown",
   "metadata": {},
   "source": [
    "### Generate a coverage plot  \n",
    "First need to convert SAM file of alignment of filtered reads to *S. oneidensis* reference genome to BAM, sort it, index it, and use \"depth\" to generate a file containing the depth of coverage for every position in the reference genome.\n",
    "\n",
    "#### Terminal commands:  \n",
    "\n",
    "    samtools view -b so_aligned.sam > so_aligned.bam\n",
    "    output: so_aligned.bam\n",
    "\n",
    "    samtools sort so_aligned.bam > so_aligned_sorted.bam\n",
    "    output: so_aligned_sorted.bam\n",
    "    \n",
    "    samtools index so_aligned_sorted.bam\n",
    "    output: so_aligned_sorted.bam.bai\n",
    "    \n",
    "    samtools depth -a so_aligned_sorted.bam > pileup.tab\n",
    "    output: pileup.tab\n",
    "    \n"
   ]
  },
  {
   "cell_type": "code",
   "execution_count": 1,
   "metadata": {},
   "outputs": [],
   "source": [
    "# Parse position and coverage info from pileup.tab\n",
    "pileups = open('pileup.tab', 'r')\n",
    "cov_dict = {}\n",
    "for line in pileups:\n",
    "    cov_dict[int(line.split()[1])] = int(line.split()[2])"
   ]
  },
  {
   "cell_type": "markdown",
   "metadata": {},
   "source": [
    "**What is the min, max, and mean coverage across all positions?**  "
   ]
  },
  {
   "cell_type": "code",
   "execution_count": 4,
   "metadata": {},
   "outputs": [
    {
     "name": "stdout",
     "output_type": "stream",
     "text": [
      "Maximum coverage of 269 first occurs at position 3699266\n",
      "Minimum coverage of 0 first occurs at position 1\n",
      "Mean coverage = 36.966\n"
     ]
    }
   ],
   "source": [
    "max_info = max(cov_dict.items(), key=operator.itemgetter(1))\n",
    "print('Maximum coverage of ' + str(max_info[1]) + ' first occurs at position ' + str(max_info[0]))\n",
    "\n",
    "min_info = min(cov_dict.items(), key=operator.itemgetter(1))\n",
    "print('Minimum coverage of ' + str(min_info[1]) + ' first occurs at position ' + str(min_info[0]))\n",
    "\n",
    "coverages = cov_dict.values()\n",
    "mean_cov = sum(coverages)/len(coverages)\n",
    "print('Mean coverage = {:.3f}'.format(mean_cov))"
   ]
  },
  {
   "cell_type": "code",
   "execution_count": 5,
   "metadata": {},
   "outputs": [],
   "source": [
    "# For plotting, parse info from pileup.tab again because sorting cov_dict takes too long\n",
    "pileups = open('pileup.tab', 'r')\n",
    "positions = []\n",
    "coverages = []\n",
    "for line in pileups:\n",
    "    positions.append(int(line.split()[1]))\n",
    "    coverages.append(int(line.split()[2]))"
   ]
  },
  {
   "cell_type": "code",
   "execution_count": null,
   "metadata": {},
   "outputs": [],
   "source": [
    "# Plot coverage vs. position\n",
    "plot_min = 0\n",
    "plot_max = 10000\n",
    "plt.figure()\n",
    "# plt.bar(positions, coverages)\n",
    "plt.bar(positions[plot_min:plot_max], coverages[plot_min:plot_max])\n",
    "plt.xlabel('Position in Genome')\n",
    "plt.ylabel('Depth of Coverage')\n",
    "plt.show()"
   ]
  },
  {
   "cell_type": "code",
   "execution_count": 6,
   "metadata": {},
   "outputs": [
    {
     "data": {
      "image/png": "[encoded data removed]",
      "text/plain": [
       "<Figure size 432x288 with 1 Axes>"
      ]
     },
     "metadata": {},
     "output_type": "display_data"
    }
   ],
   "source": [
    "# Plot histogram of depths of coverages\n",
    "num_bins = 50\n",
    "plt.figure()\n",
    "plt.hist(coverages, num_bins)\n",
    "plt.xlabel('Depth of Coverage')\n",
    "plt.ylabel('Count')\n",
    "plt.show()"
   ]
  }
 ],
 "metadata": {
  "kernelspec": {
   "display_name": "Python 3",
   "language": "python",
   "name": "python3"
  },
  "language_info": {
   "codemirror_mode": {
    "name": "ipython",
    "version": 3
   },
   "file_extension": ".py",
   "mimetype": "text/x-python",
   "name": "python",
   "nbconvert_exporter": "python",
   "pygments_lexer": "ipython3",
   "version": "3.6.5"
  }
 },
 "nbformat": 4,
 "nbformat_minor": 2
}
