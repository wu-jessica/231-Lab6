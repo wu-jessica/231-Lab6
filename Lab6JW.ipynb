{
 "cells": [
  {
   "cell_type": "markdown",
   "metadata": {},
   "source": [
    "### Lab 6: Sequence Alignment"
   ]
  },
  {
   "cell_type": "code",
   "execution_count": 1,
   "metadata": {},
   "outputs": [],
   "source": [
    "# Imports\n",
    "from os import listdir\n",
    "import matplotlib.pylab as plt\n",
    "%matplotlib inline\n",
    "import numpy as np\n",
    "import operator"
   ]
  },
  {
   "cell_type": "markdown",
   "metadata": {},
   "source": [
    "### Align the reads to the human genome\n",
    "\n",
    "**What will you use for the database? Input reads?**  \n",
    "The database will be the bowtie2 database files (.bt2 extension) containing the human genome (hg19.) The input reads will be the reads from the Illumina sequencing run (illumina_reads.fastq.)  \n",
    "\n",
    "**If you use the --un unaligned.fastq option, what will unaligned.fastq contain?**  \n",
    "unaligned.fastq will contain the sequencing reads that didn't align to the human genome.  \n",
    "\n",
    "\n",
    "    be131-12@meowth:~$ bowtie2 -p 4 --fast -- no-unal -x /data/hg19/hg19 -U /data/lab6/illumina_reads.fastq -S hg_aligned.sam --un hg_unaligned.fastq  \n",
    "\n",
    "    1124714 reads; of these:  \n",
    "        1124714 (100.00%) were unpaired; of these:  \n",
    "        1028346 (91.43%) aligned 0 times  \n",
    "        86808 (7.72%) aligned exactly 1 time  \n",
    "        9560 (0.85%) aligned >1 times  \n",
    "    8.57% overall alignment rate  \n",
    "\n",
    "\n",
    "**What percentage of your sequencing library came from contaminating human DNA?**  \n",
    "8.57%"
   ]
  },
  {
   "cell_type": "markdown",
   "metadata": {},
   "source": [
    "### Align the reads to the *S. oneidensis* reference genome\n",
    "\n",
    "    be131-12@meowth:~$ bowtie2 -p 4 --fast --no-unal -x /data/lab6/shewanella_oneidensis_mr-1 -U hg_unaligned.fastq -S so_aligned.sam --un so_unaligned.fastq\n",
    "\n",
    "    1028346 reads; of these:\n",
    "        1028346 (100.00%) were unpaired; of these:\n",
    "        299342 (29.11%) aligned 0 times\n",
    "        687579 (66.86%) aligned exactly 1 time\n",
    "        41425 (4.03%) aligned >1 times\n",
    "    70.89% overall alignment rate  \n",
    "\n",
    "\n",
    "**If you use the --un unaligned.fastq option, what will unaligned.fastq contain?**  \n",
    "unaligned.fastq will contain the sequencing reads that didn't align to either the human genome or the *S. oneidensis* genome.  \n",
    "\n",
    "**What percentage of your filtered library didn’t align to the reference genome? If you use --very-sensitive instead of --very-fast, does this percentage increase or decrease?**  \n",
    "29.11% of the filtered library didn't align to the reference genome because there was a 70.89% overall alignment rate. This was obtained using the --fast parameter. This percentage decreased slightly to 28.99% when using the --very-sensitive parameter (overall alignment rate increased to 71.01%.) The point of this parameter seems to be giving users the ability to adjust the trade-off between speed and sensitivity/accuracy. The sensitivity parameter itself likely decreases the alignment score threshold needed for reads to be considered \"aligned\", or increases the number of allowed mismatches, as sensitivity goes from less sensitive (toward --very-fast) to more sensitive (toward --very-sensitive.) \n",
    "\n",
    "More trials confirm this idea:  \n",
    "--very-fast and --fast had same alignment (70.89%)  \n",
    "--very-sensitive and --fast had same alignment for first alignment to human genome (8.57%)  \n",
    "--very-sensitive increases alignment for alignment to *S. oneidensis* (70.89% to 71.01%)  "
   ]
  },
  {
   "cell_type": "markdown",
   "metadata": {},
   "source": [
    "### Generate a coverage plot  \n",
    "First need to convert SAM file of alignment of filtered reads to *S. oneidensis* reference genome to BAM, sort it, index it, and use \"depth\" to generate a file containing the depth of coverage for every position in the reference genome.\n",
    "\n",
    "#### Terminal commands:  \n",
    "\n",
    "    samtools view -b so_aligned.sam > so_aligned.bam\n",
    "    output: so_aligned.bam\n",
    "\n",
    "    samtools sort so_aligned.bam > so_aligned_sorted.bam\n",
    "    output: so_aligned_sorted.bam\n",
    "    \n",
    "    samtools index so_aligned_sorted.bam\n",
    "    output: so_aligned_sorted.bam.bai\n",
    "    \n",
    "    samtools depth -a so_aligned_sorted.bam > pileup.tab\n",
    "    output: pileup.tab\n",
    "    \n"
   ]
  },
  {
   "cell_type": "code",
   "execution_count": 2,
   "metadata": {},
   "outputs": [],
   "source": [
    "# Parse position and coverage info from pileup.tab\n",
    "pileups = open('pileup.tab', 'r')\n",
    "cov_dict = {}\n",
    "for line in pileups:\n",
    "    cov_dict[int(line.split()[1])] = int(line.split()[2])"
   ]
  },
  {
   "cell_type": "markdown",
   "metadata": {},
   "source": [
    "**What is the min, max, and mean coverage across all positions?**  "
   ]
  },
  {
   "cell_type": "code",
   "execution_count": 3,
   "metadata": {},
   "outputs": [
    {
     "name": "stdout",
     "output_type": "stream",
     "text": [
      "Maximum coverage of 269 first occurs at position 3699266\n",
      "Minimum coverage of 0 first occurs at position 1\n",
      "Mean coverage = 36.966\n"
     ]
    }
   ],
   "source": [
    "max_info = max(cov_dict.items(), key=operator.itemgetter(1))\n",
    "print('Maximum coverage of ' + str(max_info[1]) + ' first occurs at position ' + str(max_info[0]))\n",
    "\n",
    "min_info = min(cov_dict.items(), key=operator.itemgetter(1))\n",
    "print('Minimum coverage of ' + str(min_info[1]) + ' first occurs at position ' + str(min_info[0]))\n",
    "\n",
    "coverages = cov_dict.values()\n",
    "mean_cov = sum(coverages)/len(coverages)\n",
    "print('Mean coverage = {:.3f}'.format(mean_cov))"
   ]
  },
  {
   "cell_type": "code",
   "execution_count": 4,
   "metadata": {},
   "outputs": [],
   "source": [
    "# For plotting, parse info from pileup.tab again because sorting cov_dict takes too long\n",
    "pileups = open('pileup.tab', 'r')\n",
    "positions = []\n",
    "coverages = []\n",
    "for line in pileups:\n",
    "    positions.append(int(line.split()[1]))\n",
    "    coverages.append(int(line.split()[2]))"
   ]
  },
  {
   "cell_type": "code",
   "execution_count": 5,
   "metadata": {},
   "outputs": [
    {
     "data": {
      "image/png": "[encoded data removed]",
      "text/plain": [
       "<Figure size 432x288 with 1 Axes>"
      ]
     },
     "metadata": {},
     "output_type": "display_data"
    }
   ],
   "source": [
    "# Plot coverage vs. position\n",
    "# Plot length    Time\n",
    "#   100000       3:45\n",
    "plot_min = 0\n",
    "plot_max = len(positions)  # takes too long\n",
    "plt.figure()\n",
    "plt.scatter(positions[plot_min:plot_max], coverages[plot_min:plot_max])\n",
    "plt.xlabel('Position in Genome')\n",
    "plt.ylabel('Depth of Coverage')\n",
    "plt.show()"
   ]
  },
  {
   "cell_type": "code",
   "execution_count": 6,
   "metadata": {},
   "outputs": [
    {
     "data": {
      "image/png": "[encoded data removed]",
      "text/plain": [
       "<Figure size 432x288 with 1 Axes>"
      ]
     },
     "metadata": {},
     "output_type": "display_data"
    }
   ],
   "source": [
    "# Plot histogram of depths of coverages\n",
    "num_bins = 50\n",
    "plt.figure()\n",
    "plt.hist(coverages, num_bins)\n",
    "plt.xlabel('Depth of Coverage')\n",
    "plt.ylabel('Count')\n",
    "plt.show()"
   ]
  },
  {
   "cell_type": "markdown",
   "metadata": {},
   "source": [
    "### Extra Credit 1\n",
    "#### First need to convert SAM file of alignment to hg19 to BAM, sort it, and index it.   \n",
    "\n",
    "    samtools view -b hg_aligned.sam > hg_aligned.bam\n",
    "    output: hg_aligned.bam\n",
    "\n",
    "    samtools sort hg_aligned.bam > hg_aligned_sorted.bam\n",
    "    output: hg_aligned_sorted.bam\n",
    "    \n",
    "    samtools index hg_aligned_sorted.bam\n",
    "    output: hg_aligned_sorted.bam.bai  \n",
    "\n",
    "#### Next split by chromosome for chr1 - 22, X, and Y.  \n",
    "\n",
    "    samtools view -b hg_aligned_sorted.bam chr1 > chr1.bam\n",
    "    samtools view -b hg_aligned_sorted.bam chr2 > chr2.bam\n",
    "                            ...\n",
    "    samtools view -b hg_aligned_sorted.bam chrX > chrX.bam\n",
    "    samtools view -b hg_aligned_sorted.bam chrY > chrY.bam  \n",
    "\n",
    "#### Finally, get coverage at each position and divide by the chromosome lengths for hg19 from NCBI to get average depth  \n",
    "[Table of Chromosome Lengths](http://dldcc-web.brc.bcm.edu/lilab/liguow/RSeQC/dat/sample.hg19.chrom.sizes)\n",
    "\n",
    "    samtools depth chr1.bam > chr1.tab\n",
    "    samtools depth chr2.bam > chr2.tab\n",
    "                   ...\n",
    "    samtools depth chrX.bam > chrX.tab\n",
    "    samtools depth chrY.bam > chrY.tab  \n",
    "    "
   ]
  },
  {
   "cell_type": "code",
   "execution_count": 7,
   "metadata": {},
   "outputs": [],
   "source": [
    "# Construct dictionary with chromosome length information from link above (I'm sure there's a faster way to do this)\n",
    "chr_lens = {'chr1': 1249250621, 'chr2': 243199373, 'chr3': 198022430,\n",
    "            'chr4': 191154276, 'chr5': 180915260, 'chr6': 171115067,\n",
    "            'chr7': 159138663, 'chrX': 155270560, 'chr8': 146364022,\n",
    "            'chr9': 141213431, 'chr10': 135534747, 'chr11': 135006516,\n",
    "            'chr12': 133851895, 'chr13': 115169878, 'chr14': 107349540,\n",
    "            'chr15': 102531392, 'chr16': 90354753, 'chr17': 81195210,\n",
    "            'chr18': 78077248, 'chr20': 63025520, 'chrY': 59373566,\n",
    "            'chr19': 59128983, 'chr22': 51304566, 'chr21': 48129895}"
   ]
  },
  {
   "cell_type": "code",
   "execution_count": 8,
   "metadata": {},
   "outputs": [],
   "source": [
    "# Parse position and coverage info from each chromosome's .tab\n",
    "tabs = [f.split('.')[0] for f in listdir() if f.startswith('chr') and f.endswith('.tab')]\n",
    "chr_info = []\n",
    "for chr_name in tabs:\n",
    "    pileups = open(chr_name + '.tab', 'r')\n",
    "    positions = []\n",
    "    coverages = []\n",
    "    for line in pileups:\n",
    "        positions.append(int(line.split()[1]))\n",
    "        coverages.append(int(line.split()[2]))\n",
    "    mean_cov = sum(coverages)/chr_lens[chr_name]\n",
    "    \n",
    "    chr_num = chr_name[3:]    # each file name starts with 'chr'\n",
    "    if chr_num != 'X' and chr_num != 'Y':\n",
    "        chr_info.append((int(chr_num), mean_cov))\n",
    "    elif chr_num == 'X':\n",
    "        chr_info.append((23, mean_cov))\n",
    "    else:\n",
    "        chr_info.append((24, mean_cov))"
   ]
  },
  {
   "cell_type": "code",
   "execution_count": 9,
   "metadata": {},
   "outputs": [],
   "source": [
    "# Sort average depths by chromosome for plotting\n",
    "chr_sorted = sorted(chr_info, key=lambda x: x[0])\n",
    "chromosomes = [num[0] for num in chr_sorted]\n",
    "depths = [depth[1] for depth in chr_sorted]\n",
    "\n",
    "# Make xlabels pretty\n",
    "xlabels = []\n",
    "for num in chromosomes:\n",
    "    if num == 23:\n",
    "        xlabels.append('X')\n",
    "    elif num == 24:\n",
    "        xlabels.append('Y')\n",
    "    else:\n",
    "        xlabels.append(str(num))"
   ]
  },
  {
   "cell_type": "code",
   "execution_count": 10,
   "metadata": {},
   "outputs": [
    {
     "data": {
      "image/png": "[encoded data removed]",
      "text/plain": [
       "<Figure size 720x288 with 1 Axes>"
      ]
     },
     "metadata": {},
     "output_type": "display_data"
    }
   ],
   "source": [
    "# Plot average depth for each human chromosome\n",
    "fig, ax = plt.subplots(figsize=(10,4))\n",
    "plt.bar(chromosomes, depths)\n",
    "plt.xlabel('Chromosome')\n",
    "plt.ylabel('Average depth')\n",
    "plt.xticks(np.arange(1, len(chromosomes)+1, 1))\n",
    "ax.set_xticklabels(xlabels)\n",
    "plt.show()"
   ]
  },
  {
   "cell_type": "markdown",
   "metadata": {},
   "source": [
    "Jamie is male because his plot of average depth has non-zero coverage for the Y chromosome."
   ]
  }
 ],
 "metadata": {
  "kernelspec": {
   "display_name": "Python 3",
   "language": "python",
   "name": "python3"
  },
  "language_info": {
   "codemirror_mode": {
    "name": "ipython",
    "version": 3
   },
   "file_extension": ".py",
   "mimetype": "text/x-python",
   "name": "python",
   "nbconvert_exporter": "python",
   "pygments_lexer": "ipython3",
   "version": "3.6.5"
  }
 },
 "nbformat": 4,
 "nbformat_minor": 2
}
